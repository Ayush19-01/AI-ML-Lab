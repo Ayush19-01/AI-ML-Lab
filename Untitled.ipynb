{
 "cells": [
  {
   "cell_type": "code",
   "execution_count": 1,
   "id": "118ed5a5",
   "metadata": {},
   "outputs": [
    {
     "name": "stdout",
     "output_type": "stream",
     "text": [
      "420 69.5\n",
      "Ayush\n"
     ]
    }
   ],
   "source": [
    "#Ayush Sharma 209303312\n",
    "#1.1 Write a program in python to declare a variable\n",
    "num1 = 420\n",
    "num2 = 69.5\n",
    "name = \"Ayush\"\n",
    "print(num1,num2)\n",
    "print(name)"
   ]
  },
  {
   "cell_type": "code",
   "execution_count": 2,
   "id": "372b4da5",
   "metadata": {},
   "outputs": [
    {
     "name": "stdout",
     "output_type": "stream",
     "text": [
      "Enter your name: Ayush\n",
      "Enter your age:21\n",
      "Ayush is 21 years old.\n"
     ]
    }
   ],
   "source": [
    "#Ayush Sharma 209303312\n",
    "#1.2 Program to get input from User Int and string both\n",
    "user_name = input(\"Enter your name: \")\n",
    "age = int(input(\"Enter your age:\"))\n",
    "print(f\"{user_name} is {age} years old.\")"
   ]
  },
  {
   "cell_type": "code",
   "execution_count": 5,
   "id": "1d42f6a6",
   "metadata": {},
   "outputs": [
    {
     "name": "stdout",
     "output_type": "stream",
     "text": [
      "Enter a string: Ayush\n",
      "Enter another string: Sharma\n",
      "Enter a number between 1 and 5: 3\n",
      "Concatenation : AyushSharma\n",
      "Slicing: Ayu\n",
      "Indexing: a\n",
      "Multiplication: AyushAyushAyush\n"
     ]
    }
   ],
   "source": [
    "#Ayush Sharma 209303312\n",
    "#1.3 Program to demonstrate String datatype in Python\n",
    "str1 = input(\"Enter a string: \")\n",
    "str2 = input(\"Enter another string: \")\n",
    "times = int(input(\"Enter a number between 1 and 5: \"))\n",
    "print(f\"Concatenation : {str1+str2}\")\n",
    "print(f\"Slicing: {str1[:3]}\")\n",
    "print(f\"Indexing: {str2[5]}\")\n",
    "print(f\"Multiplication: {times*str1}\")\n",
    "\n"
   ]
  },
  {
   "cell_type": "code",
   "execution_count": 6,
   "id": "b9640af9",
   "metadata": {},
   "outputs": [
    {
     "name": "stdout",
     "output_type": "stream",
     "text": [
      "Type of a: <class 'int'>\n",
      "Type of b: <class 'float'>\n",
      "Type of c: <class 'complex'>\n"
     ]
    }
   ],
   "source": [
    "#Ayush Sharma 209303312\n",
    "#1.4 Program to demonstrate Number datatype in Python\n",
    "a = 5\n",
    "print(f\"Type of a: {type(a)}\")\n",
    "b = 40.5\n",
    "print(f\"Type of b: {type(b)}\")\n",
    "c = 1+3j\n",
    "print(f\"Type of c: {type(c)}\")\n"
   ]
  },
  {
   "cell_type": "code",
   "execution_count": 8,
   "id": "cf3be814",
   "metadata": {},
   "outputs": [
    {
     "name": "stdout",
     "output_type": "stream",
     "text": [
      "List: ['Ayush', 'Sharma', 21, 209303312]\n",
      "List Slicing: [21, 209303312]\n",
      "List concatenation: ['Ayush', 'Sharma', 21, 209303312, 'Ayush', 'Sharma', 21, 209303312]\n",
      "List repetition: ['Ayush', 'Sharma', 21, 209303312, 'Ayush', 'Sharma', 21, 209303312, 'Ayush', 'Sharma', 21, 209303312]\n"
     ]
    }
   ],
   "source": [
    "#Ayush Sharma 209303312\n",
    "#1.5 Program to demonstrate List datatype in Python\n",
    "l1 = [\"Ayush\",\"Sharma\", 21, 209303312]\n",
    "print(f\"List: {l1}\")\n",
    "print(f\"List Slicing: {l1[2:]}\")\n",
    "print(f\"List concatenation: {l1+l1}\")\n",
    "print(f\"List repetition: {l1*3}\")\n",
    "\n",
    "\n"
   ]
  },
  {
   "cell_type": "code",
   "execution_count": 10,
   "id": "a794690f",
   "metadata": {},
   "outputs": [
    {
     "name": "stdout",
     "output_type": "stream",
     "text": [
      "Type: <class 'tuple'>\n",
      "Tuple: ('Ayush', 'Sharma', 21, 209303312)\n",
      "Tuple Slicing: ('Ayush', 'Sharma')\n",
      "Tuple concatenation: ('Ayush', 'Sharma', 21, 209303312, 'Ayush', 'Sharma', 21, 209303312)\n",
      "Tuple repetition: ('Ayush', 'Sharma', 21, 209303312, 'Ayush', 'Sharma', 21, 209303312, 'Ayush', 'Sharma', 21, 209303312)\n"
     ]
    }
   ],
   "source": [
    "#Ayush Sharma 209303312\n",
    "#1.6 Program to demonstrate Tuples datatype in Python\n",
    "tup = (\"Ayush\",\"Sharma\", 21, 209303312)\n",
    "print(f\"Type: {type(tup)}\")\n",
    "print(f\"Tuple: {tup}\")\n",
    "print(f\"Tuple Slicing: {tup[:2]}\")\n",
    "print(f\"Tuple concatenation: {tup+tup}\")\n",
    "print(f\"Tuple repetition: {3*tup}\")"
   ]
  },
  {
   "cell_type": "code",
   "execution_count": 12,
   "id": "00ef6927",
   "metadata": {},
   "outputs": [
    {
     "name": "stdout",
     "output_type": "stream",
     "text": [
      "Dictionary {1: 'Jaipur', 2: 'Ajmer', 3: 'Jodhpur', 4: 'Udaipur'}\n",
      "First name is Jaipur\n",
      "Dictionary Keys:  dict_keys([1, 2, 3, 4])\n",
      "Dictionary Values:  dict_values(['Jaipur', 'Ajmer', 'Jodhpur', 'Udaipur'])\n"
     ]
    }
   ],
   "source": [
    "#Ayush Sharma 209303312\n",
    "#1.7 Program to demonstrate Dictionary datatype in Python\n",
    "d = {1:'Jaipur', 2:'Ajmer', 3:'Jodhpur', 4:'Udaipur'}\n",
    "print(f\"Dictionary {d}\")\n",
    "print(f\"First name is {d[1]}\")\n",
    "print(f\"Dictionary Keys:  {d.keys()}\")\n",
    "print(f\"Dictionary Values:  {d.values()}\")"
   ]
  },
  {
   "cell_type": "code",
   "execution_count": 15,
   "id": "d8ef6c13",
   "metadata": {},
   "outputs": [
    {
     "name": "stdout",
     "output_type": "stream",
     "text": [
      "Set 2 : {'Sharma', 19, 21, 'Ayush'}\n",
      "Set 1 : {5}\n",
      "Set 2 : {'Sharma', 19, 'Ayush'}\n"
     ]
    }
   ],
   "source": [
    "#Ayush Sharma 209303312\n",
    "#1.8 Program to demonstrate Set datatype in Python\n",
    "set1 = set()\n",
    "set2 = {\"Ayush\", 19, 21,\"Sharma\"}\n",
    "print(f\"Set 2 : {set2}\")\n",
    "set1.add(5)\n",
    "print(f\"Set 1 : {set1}\")\n",
    "set2.remove(21)\n",
    "print(f\"Set 2 : {set2}\")"
   ]
  },
  {
   "cell_type": "code",
   "execution_count": 16,
   "id": "508ef091",
   "metadata": {},
   "outputs": [
    {
     "name": "stdout",
     "output_type": "stream",
     "text": [
      "True: <class 'bool'>\n",
      "False: <class 'bool'>\n"
     ]
    }
   ],
   "source": [
    "#Ayush Sharma 209303312\n",
    "#1.9 Program to demonstrate Boolean datatype in Python\n",
    "print(f\"True: {type(True)}\")\n",
    "print(f\"False: {type(False)}\")\n"
   ]
  },
  {
   "cell_type": "code",
   "execution_count": 17,
   "id": "28d34a7f",
   "metadata": {},
   "outputs": [
    {
     "name": "stdout",
     "output_type": "stream",
     "text": [
      "Enter a number: 10\n",
      "Enter another number: 6\n",
      "Addition: 16\n",
      "Subtraction: 4\n",
      "Multiplication: 60\n",
      "Division: 1.6666666666666667\n",
      "Floor Division: 1\n",
      "Modulus: 4\n",
      "Power: 1000000\n"
     ]
    }
   ],
   "source": [
    "#Ayush Sharma 209303312\n",
    "#1.10 Program to demonstrate Arithmetic Operator in python\n",
    "a = int(input(\"Enter a number: \"))\n",
    "b = int(input(\"Enter another number: \"))\n",
    "print(f\"Addition: {a+b}\")\n",
    "print(f\"Subtraction: {a-b}\")\n",
    "print(f\"Multiplication: {a*b}\")\n",
    "print(f\"Division: {a/b}\")\n",
    "print(f\"Floor Division: {a//b}\")\n",
    "print(f\"Modulus: {a%b}\")\n",
    "print(f\"Power: {a**b}\")"
   ]
  },
  {
   "cell_type": "code",
   "execution_count": 18,
   "id": "c41c6693",
   "metadata": {},
   "outputs": [
    {
     "name": "stdout",
     "output_type": "stream",
     "text": [
      "x > y is False\n",
      "x < y is True\n",
      "x == y is False\n",
      "x != y is True\n",
      "x >= y is False\n",
      "x <= y is True\n"
     ]
    }
   ],
   "source": [
    "#Ayush Sharma 209303312\n",
    "#1.11 Program to demonstrate comparison operator in python\n",
    "x = 10\n",
    "y = 12\n",
    "print('x > y is',x>y)\n",
    "print('x < y is',x<y)\n",
    "print('x == y is',x==y)\n",
    "print('x != y is',x!=y)\n",
    "print('x >= y is',x>=y)\n",
    "print('x <= y is',x<=y)"
   ]
  },
  {
   "cell_type": "code",
   "execution_count": 20,
   "id": "8769a574",
   "metadata": {},
   "outputs": [
    {
     "name": "stdout",
     "output_type": "stream",
     "text": [
      "5\n",
      "10\n",
      "5\n",
      "25\n",
      "800\n"
     ]
    }
   ],
   "source": [
    "#Ayush Sharma 209303312\n",
    "#1.12 Program to demonstrate Assignment operator in python\n",
    "a = 5 \n",
    "b = a  #normal assignment\n",
    "print(b)\n",
    "b += a  #add and assign\n",
    "print(b)\n",
    "b -= a  #subtract and assign\n",
    "print(b)\n",
    "b *= a  #multiply and assign\n",
    "print(b)\n",
    "b <<= a  #left shift and assign\n",
    "print(b)"
   ]
  },
  {
   "cell_type": "code",
   "execution_count": 22,
   "id": "be05eb38",
   "metadata": {},
   "outputs": [
    {
     "name": "stdout",
     "output_type": "stream",
     "text": [
      "AND: False\n",
      "OR : True\n",
      "NOT: False\n"
     ]
    }
   ],
   "source": [
    "#Ayush Sharma 209303312\n",
    "#1.13  Program to demonstrate Logical Operator in python\n",
    "a = True\n",
    "b = False\n",
    "print(f\"AND: {a and b}\")\n",
    "print(f\"OR : {a or b}\")\n",
    "print(f\"NOT: {not a}\")"
   ]
  },
  {
   "cell_type": "code",
   "execution_count": 25,
   "id": "83c28752",
   "metadata": {},
   "outputs": [
    {
     "name": "stdout",
     "output_type": "stream",
     "text": [
      "Bitwise AND: 6\n",
      "Bitwise OR: 15\n",
      "Bitwise NOT: -15\n",
      "Bitwise XOR: 9\n",
      "Bitwise Left Shift 56\n",
      "Bitwsie Right Shift 3\n"
     ]
    }
   ],
   "source": [
    "#Ayush Sharma 209303312\n",
    "#1.14 Program to demonstrate Bitwise Operator in python\n",
    "a = 14\n",
    "b = 7\n",
    "print(f\"Bitwise AND: {a & b}\")\n",
    "print(f\"Bitwise OR: {a | b}\")\n",
    "print(f\"Bitwise NOT: {~a}\")\n",
    "print(f\"Bitwise XOR: {a^b}\")\n",
    "print(f\"Bitwise Left Shift {a<<2}\")\n",
    "print(f\"Bitwsie Right Shift {a>>2}\")\n",
    "\n"
   ]
  },
  {
   "cell_type": "code",
   "execution_count": 28,
   "id": "30ec0524",
   "metadata": {},
   "outputs": [
    {
     "name": "stdout",
     "output_type": "stream",
     "text": [
      "x is NOT present in the given list\n",
      "y is present in the given list\n"
     ]
    }
   ],
   "source": [
    "#Ayush Sharma 209303312\n",
    "#1.15 Program to demonstrate Membership Operator in python\n",
    "x = 25\n",
    "y = 20\n",
    "l1 = [10, 20, 30, 40, 50]\n",
    "if x not in l1:\n",
    "    print(\"x is NOT present in the given list\")\n",
    "else:\n",
    "    print(\"x is present in the given list\")\n",
    "if y in l1:\n",
    "    print(\"y is present in the given list\")\n",
    "else:\n",
    "    print(\"y is NOT present in the given list\")"
   ]
  },
  {
   "cell_type": "code",
   "execution_count": 32,
   "id": "a020f396",
   "metadata": {},
   "outputs": [
    {
     "name": "stdout",
     "output_type": "stream",
     "text": [
      "Enter a number: -10\n",
      "Input number is a negative number\n"
     ]
    }
   ],
   "source": [
    "#Ayush Sharma 209303312\n",
    "#1.16 Program to demonstrate decision making using if else in python\n",
    "num = int(input(\"Enter a number: \"))\n",
    "if num > 0:\n",
    "    print(\"Input number is a positive number\")\n",
    "elif num == 0:\n",
    "    print(\"Input number is zero\")\n",
    "else:\n",
    "    print(\"Input number is a negative number\")\n"
   ]
  },
  {
   "cell_type": "code",
   "execution_count": 33,
   "id": "80e50942",
   "metadata": {},
   "outputs": [
    {
     "name": "stdout",
     "output_type": "stream",
     "text": [
      "The sum is 48\n"
     ]
    }
   ],
   "source": [
    "#Ayush Sharma 209303312\n",
    "#1.17  Program to demonstrate for loop in python\n",
    "numbers = [6, 5, 3, 8, 4, 2, 5, 4, 11]\n",
    "add = 0\n",
    "for i in numbers:\n",
    "    add += i\n",
    "print(f\"The sum is {add}\")"
   ]
  },
  {
   "cell_type": "code",
   "execution_count": 34,
   "id": "5d88b4c4",
   "metadata": {},
   "outputs": [
    {
     "name": "stdout",
     "output_type": "stream",
     "text": [
      "range(0, 7)\n",
      "[0, 1, 2, 3, 4, 5, 6]\n",
      "[2, 3, 4, 5, 6, 7, 8, 9, 10]\n",
      "[10, 9, 8, 7, 6, 5, 4, 3, 2, 1]\n"
     ]
    }
   ],
   "source": [
    "#Ayush Sharma 209303312\n",
    "#1.18 Program to demonstrate range function in python\n",
    "print(range(7))\n",
    "print(list(range(7)))\n",
    "print(list(range(2, 11)))\n",
    "print(list(range(10, 0, -1)))\n"
   ]
  },
  {
   "cell_type": "code",
   "execution_count": 35,
   "id": "3855d67a",
   "metadata": {},
   "outputs": [
    {
     "name": "stdout",
     "output_type": "stream",
     "text": [
      "I am good in AI/ML\n",
      "I am good in Wireless Communications\n",
      "I am good in Automata Theory\n"
     ]
    }
   ],
   "source": [
    "#Ayush Sharma 209303312\n",
    "#1.19 Program to demonstrate use of range function with for loop\n",
    "subjects = [\"AI/ML\",\"Wireless Communications\", \"Automata Theory\"]\n",
    "for i in range(len(subjects)):\n",
    "    print(f\"I am good in {subjects[i]}\")"
   ]
  },
  {
   "cell_type": "code",
   "execution_count": 39,
   "id": "41944b8f",
   "metadata": {},
   "outputs": [
    {
     "name": "stdout",
     "output_type": "stream",
     "text": [
      "Enter a number:69\n",
      "Sum of first 69 numbers is 2415\n"
     ]
    }
   ],
   "source": [
    "#Ayush Sharma 209303312\n",
    "#1.20 Program to demonstrate while loop in python\n",
    "n = int(input(\"Enter a number:\"))\n",
    "i = 1 \n",
    "add = 0\n",
    "while i <= n:\n",
    "    add += i\n",
    "    i += 1\n",
    "print(f\"Sum of first {n} numbers is {add}\")"
   ]
  },
  {
   "cell_type": "code",
   "execution_count": null,
   "id": "bae1e894",
   "metadata": {},
   "outputs": [],
   "source": []
  },
  {
   "cell_type": "code",
   "execution_count": null,
   "id": "0be8f830",
   "metadata": {},
   "outputs": [],
   "source": []
  }
 ],
 "metadata": {
  "kernelspec": {
   "display_name": "Python 3 (ipykernel)",
   "language": "python",
   "name": "python3"
  },
  "language_info": {
   "codemirror_mode": {
    "name": "ipython",
    "version": 3
   },
   "file_extension": ".py",
   "mimetype": "text/x-python",
   "name": "python",
   "nbconvert_exporter": "python",
   "pygments_lexer": "ipython3",
   "version": "3.10.5"
  }
 },
 "nbformat": 4,
 "nbformat_minor": 5
}
