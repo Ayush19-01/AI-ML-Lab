{
 "cells": [
  {
   "cell_type": "code",
   "execution_count": 2,
   "id": "a2b8480f",
   "metadata": {},
   "outputs": [
    {
     "ename": "IndentationError",
     "evalue": "expected an indented block after 'while' statement on line 50 (3523311571.py, line 51)",
     "output_type": "error",
     "traceback": [
      "\u001b[1;36m  Cell \u001b[1;32mIn[2], line 51\u001b[1;36m\u001b[0m\n\u001b[1;33m    currentSolution = bestNeighbour\u001b[0m\n\u001b[1;37m    ^\u001b[0m\n\u001b[1;31mIndentationError\u001b[0m\u001b[1;31m:\u001b[0m expected an indented block after 'while' statement on line 50\n"
     ]
    }
   ],
   "source": [
    "#Ayush Sharma 209303312\n",
    "#Python Code to implement hill climbing algorithm to solve travelling salesman problem\n",
    "\n",
    "import random\n",
    "\n",
    "\n",
    "def randomSolution(tsp):\n",
    "    cities = list(range(len(tsp)))\n",
    "    solution = []\n",
    "    for i in range(len(tsp)):\n",
    "        randomCity = cities[random.randint(0, len(cities) - 1)]\n",
    "        solution.append(randomCity)\n",
    "        cities.remove(randomCity)\n",
    "    return solution\n",
    "\n",
    "\n",
    "def distance(tsp, solution):\n",
    "    l = 0\n",
    "    for i in range(len(solution)):\n",
    "        l += tsp[solution[i - 1]][solution[i]]\n",
    "    return l\n",
    "\n",
    "\n",
    "def getNeighbours(solution):\n",
    "    neighbours = []\n",
    "    for i in range(len(solution)):\n",
    "        for j in range(i + 1, len(solution)):\n",
    "            neighbour = [*solution]\n",
    "            neighbour[i] = solution[j]\n",
    "            neighbour[j] = solution[i]\n",
    "        neighbours.append(neighbour)\n",
    "    return neighbours\n",
    "\n",
    "\n",
    "def getBestNeighbour(tsp, neighbours):\n",
    "    bestRouteLength = distance(tsp, neighbours[0])\n",
    "    bestNeighbour = neighbours[0]\n",
    "    for neighbour in neighbours:\n",
    "        currentRouteLength = distance(tsp, neighbour)\n",
    "        if currentRouteLength < bestRouteLength:\n",
    "            bestRouteLength = currentRouteLength\n",
    "            bestNeighbour = neighbour\n",
    "    return bestNeighbour, bestRouteLength\n",
    "\n",
    "def hillClimbing(tsp):\n",
    "    currentSolution = randomSolution(tsp)\n",
    "    currentRouteLength = distance(tsp, currentSolution)\n",
    "    neighbours = getNeighbours(currentSolution)\n",
    "    bestNeighbour, bestNeighbourRouteLength = getBestNeighbour(tsp, neighbours)\n",
    "    while bestNeighbourRouteLength < currentRouteLength:\n",
    "    currentSolution = bestNeighbour\n",
    "    currentRouteLength = bestNeighbourRouteLength\n",
    "    neighbours = getNeighbours(currentSolution)\n",
    "    bestNeighbour, bestNeighbourRouteLength = getBestNeighbour(tsp, neighbours)\n",
    "    return currentSolution, currentRouteLength\n",
    "def main():\n",
    "tsp = [\n",
    "[0, 400, 500, 300],\n",
    "[400, 0, 300, 500],\n",
    "[500, 300, 0, 400],\n",
    "[300, 500, 400, 0]\n",
    "]\n",
    "print(hillClimbing(tsp))\n",
    "if __name__ == \"__main__\":\n",
    "main()"
   ]
  },
  {
   "cell_type": "code",
   "execution_count": null,
   "id": "3f2f265a",
   "metadata": {},
   "outputs": [],
   "source": []
  }
 ],
 "metadata": {
  "kernelspec": {
   "display_name": "Python 3 (ipykernel)",
   "language": "python",
   "name": "python3"
  },
  "language_info": {
   "codemirror_mode": {
    "name": "ipython",
    "version": 3
   },
   "file_extension": ".py",
   "mimetype": "text/x-python",
   "name": "python",
   "nbconvert_exporter": "python",
   "pygments_lexer": "ipython3",
   "version": "3.10.5"
  }
 },
 "nbformat": 4,
 "nbformat_minor": 5
}
