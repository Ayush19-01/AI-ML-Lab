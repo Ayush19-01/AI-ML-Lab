{
 "cells": [
  {
   "cell_type": "code",
   "execution_count": 9,
   "id": "4107511d",
   "metadata": {},
   "outputs": [],
   "source": [
    "#Ayush Sharma\n",
    "# 6.1 Program to demonstrate Linear Regression (single variable) using python\n",
    "import pandas as pd\n",
    "import numpy as np\n",
    "import matplotlib.pyplot as plt\n",
    "from sklearn import linear_model\n"
   ]
  },
  {
   "cell_type": "code",
   "execution_count": 3,
   "id": "aca7fab9",
   "metadata": {},
   "outputs": [],
   "source": [
    "url = (r\"https://raw.githubusercontent.com/codebasics/py/master/ML/1_linear_reg/homeprices.csv\")\n",
    "df = pd.read_csv(url)"
   ]
  },
  {
   "cell_type": "code",
   "execution_count": 5,
   "id": "ada49ed8",
   "metadata": {},
   "outputs": [
    {
     "data": {
      "text/plain": [
       "(5, 2)"
      ]
     },
     "execution_count": 5,
     "metadata": {},
     "output_type": "execute_result"
    }
   ],
   "source": [
    "df.shape"
   ]
  },
  {
   "cell_type": "code",
   "execution_count": 6,
   "id": "ef94fa8f",
   "metadata": {},
   "outputs": [
    {
     "data": {
      "text/plain": [
       "<bound method NDFrame.head of    area   price\n",
       "0  2600  550000\n",
       "1  3000  565000\n",
       "2  3200  610000\n",
       "3  3600  680000\n",
       "4  4000  725000>"
      ]
     },
     "execution_count": 6,
     "metadata": {},
     "output_type": "execute_result"
    }
   ],
   "source": [
    "df.head"
   ]
  },
  {
   "cell_type": "code",
   "execution_count": 7,
   "id": "3ea048cf",
   "metadata": {},
   "outputs": [
    {
     "data": {
      "text/html": [
       "<div>\n",
       "<style scoped>\n",
       "    .dataframe tbody tr th:only-of-type {\n",
       "        vertical-align: middle;\n",
       "    }\n",
       "\n",
       "    .dataframe tbody tr th {\n",
       "        vertical-align: top;\n",
       "    }\n",
       "\n",
       "    .dataframe thead th {\n",
       "        text-align: right;\n",
       "    }\n",
       "</style>\n",
       "<table border=\"1\" class=\"dataframe\">\n",
       "  <thead>\n",
       "    <tr style=\"text-align: right;\">\n",
       "      <th></th>\n",
       "      <th>area</th>\n",
       "      <th>price</th>\n",
       "    </tr>\n",
       "  </thead>\n",
       "  <tbody>\n",
       "    <tr>\n",
       "      <th>0</th>\n",
       "      <td>2600</td>\n",
       "      <td>550000</td>\n",
       "    </tr>\n",
       "    <tr>\n",
       "      <th>1</th>\n",
       "      <td>3000</td>\n",
       "      <td>565000</td>\n",
       "    </tr>\n",
       "    <tr>\n",
       "      <th>2</th>\n",
       "      <td>3200</td>\n",
       "      <td>610000</td>\n",
       "    </tr>\n",
       "    <tr>\n",
       "      <th>3</th>\n",
       "      <td>3600</td>\n",
       "      <td>680000</td>\n",
       "    </tr>\n",
       "    <tr>\n",
       "      <th>4</th>\n",
       "      <td>4000</td>\n",
       "      <td>725000</td>\n",
       "    </tr>\n",
       "  </tbody>\n",
       "</table>\n",
       "</div>"
      ],
      "text/plain": [
       "   area   price\n",
       "0  2600  550000\n",
       "1  3000  565000\n",
       "2  3200  610000\n",
       "3  3600  680000\n",
       "4  4000  725000"
      ]
     },
     "execution_count": 7,
     "metadata": {},
     "output_type": "execute_result"
    }
   ],
   "source": [
    "df"
   ]
  },
  {
   "cell_type": "code",
   "execution_count": 21,
   "id": "9ad319a5",
   "metadata": {},
   "outputs": [
    {
     "name": "stdout",
     "output_type": "stream",
     "text": [
      "[2600, 3000, 3200, 3600, 4000] [550000, 565000, 610000, 680000, 725000] [1430000000, 1695000000, 1952000000, 2448000000, 2900000000] [6760000, 9000000, 10240000, 12960000, 16000000]\n"
     ]
    }
   ],
   "source": [
    "area = df['area'].to_list()\n",
    "price = df[\"price\"].to_list()\n",
    "ar_pr = [area[i]*price[i] for i in range(len(area))]\n",
    "ar2 = [area[i]*area[i] for i in range(len(area))]\n",
    "print(area,price,ar_pr,ar2)"
   ]
  },
  {
   "cell_type": "code",
   "execution_count": 20,
   "id": "7c79c467",
   "metadata": {},
   "outputs": [
    {
     "data": {
      "text/plain": [
       "Text(0.5, 1.0, 'Graph')"
      ]
     },
     "execution_count": 20,
     "metadata": {},
     "output_type": "execute_result"
    },
    {
     "data": {
      "image/png": "[encoded data removed]",
      "text/plain": [
       "<Figure size 432x288 with 1 Axes>"
      ]
     },
     "metadata": {
      "needs_background": "light"
     },
     "output_type": "display_data"
    }
   ],
   "source": [
    "plt.plot(area,price)\n",
    "plt.plot([area[0],area[4]],[price[0],price[4]],color=\"red\")\n",
    "plt.xlabel(\"area\")\n",
    "plt.ylabel(\"Price\")\n",
    "plt.legend([\"Actual Data\",\"Regression Line\"])\n",
    "plt.title(\"Graph\")"
   ]
  },
  {
   "cell_type": "code",
   "execution_count": 31,
   "id": "05d1cf92",
   "metadata": {},
   "outputs": [
    {
     "name": "stdout",
     "output_type": "stream",
     "text": [
      "16400 3130000 10425000000 54960000 5\n"
     ]
    }
   ],
   "source": [
    "area_sum = sum(area)\n",
    "price_sum = sum(price)\n",
    "ar_pr_sum = sum(ar_pr)\n",
    "ar2_sum = sum(ar2)\n",
    "n = len(area)\n",
    "print(area_sum, price_sum, ar_pr_sum,ar2_sum,n)"
   ]
  },
  {
   "cell_type": "code",
   "execution_count": 32,
   "id": "05a275a7",
   "metadata": {},
   "outputs": [
    {
     "name": "stdout",
     "output_type": "stream",
     "text": [
      "180616.43835616438 135.7876712328767\n"
     ]
    }
   ],
   "source": [
    "intercept = (price_sum*ar2_sum-area_sum*ar_pr_sum)/(n*ar2_sum-area_sum*area_sum)\n",
    "slope = (n*ar_pr_sum-area_sum*price_sum)/(n*ar2_sum-area_sum*area_sum)\n",
    "print(intercept,slope)"
   ]
  },
  {
   "cell_type": "code",
   "execution_count": 33,
   "id": "ecc91f81",
   "metadata": {},
   "outputs": [],
   "source": [
    "def predict(x,c,m):\n",
    "    return m*x + c\n"
   ]
  },
  {
   "cell_type": "code",
   "execution_count": 40,
   "id": "2a437b4a",
   "metadata": {},
   "outputs": [
    {
     "name": "stdout",
     "output_type": "stream",
     "text": [
      "Enter the area to predict price: 5000\n",
      "Price for 5000:  859554.7945205478\n",
      "Price for 3300:  628715.7534246575\n"
     ]
    }
   ],
   "source": [
    "val = int(input(\"Enter the area to predict price: \"))\n",
    "print(f\"Price for {val}: \",predict(val,intercept,slope))\n",
    "print(f\"Price for 3300: \",predict(3300,intercept,slope))"
   ]
  },
  {
   "cell_type": "code",
   "execution_count": 41,
   "id": "7b21ff47",
   "metadata": {},
   "outputs": [
    {
     "data": {
      "text/plain": [
       "'C:\\\\Users\\\\lab003'"
      ]
     },
     "execution_count": 41,
     "metadata": {},
     "output_type": "execute_result"
    }
   ],
   "source": [
    "pwd"
   ]
  },
  {
   "cell_type": "code",
   "execution_count": null,
   "id": "2a2421a8",
   "metadata": {},
   "outputs": [],
   "source": []
  }
 ],
 "metadata": {
  "kernelspec": {
   "display_name": "Python 3 (ipykernel)",
   "language": "python",
   "name": "python3"
  },
  "language_info": {
   "codemirror_mode": {
    "name": "ipython",
    "version": 3
   },
   "file_extension": ".py",
   "mimetype": "text/x-python",
   "name": "python",
   "nbconvert_exporter": "python",
   "pygments_lexer": "ipython3",
   "version": "3.10.5"
  }
 },
 "nbformat": 4,
 "nbformat_minor": 5
}
