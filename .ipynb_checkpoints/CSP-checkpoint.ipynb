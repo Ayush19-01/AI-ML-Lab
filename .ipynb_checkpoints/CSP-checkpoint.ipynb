{
 "cells": [
  {
   "cell_type": "code",
   "execution_count": 9,
   "id": "c0734964",
   "metadata": {
    "scrolled": true
   },
   "outputs": [
    {
     "name": "stdout",
     "output_type": "stream",
     "text": [
      "{'x': 7, 'y': 12}\n",
      "{'x': 7, 'y': 11}\n",
      "{'x': 7, 'y': 10}\n",
      "{'x': 7, 'y': 9}\n",
      "{'x': 6, 'y': 12}\n",
      "{'x': 6, 'y': 11}\n",
      "{'x': 6, 'y': 10}\n",
      "{'x': 5, 'y': 12}\n",
      "{'x': 5, 'y': 11}\n",
      "{'x': 4, 'y': 12}\n"
     ]
    }
   ],
   "source": [
    "#Ayush Sharma 209303312\n",
    "#Python code to solve some algebraic relations using constraintsatisfaction\n",
    "#solving cosntraint x+y>= 15 when x can be from [1,2,3,4,5] and y can be from [1,2,3,4,5,6,7,8,9,10,11,12]\n",
    "\n",
    "from constraint import *\n",
    "\n",
    "\n",
    "problem=Problem()\n",
    "problem.addVariable(\"x\",[1,2,3,4,5,6,7])\n",
    "problem.addVariable(\"y\",[1,2,3,4,5,6,7,8,9,10,11,12])\n",
    "\n",
    "def my_constraint(x,y):\n",
    "    if x+y>15:\n",
    "        return True\n",
    "\n",
    "\n",
    "problem.addConstraint(my_constraint,['x','y'])\n",
    "s=problem.getSolutions()\n",
    "for i in s:\n",
    "    print(i)\n"
   ]
  },
  {
   "cell_type": "code",
   "execution_count": null,
   "id": "7a7e699e",
   "metadata": {},
   "outputs": [],
   "source": []
  }
 ],
 "metadata": {
  "kernelspec": {
   "display_name": "Python 3 (ipykernel)",
   "language": "python",
   "name": "python3"
  },
  "language_info": {
   "codemirror_mode": {
    "name": "ipython",
    "version": 3
   },
   "file_extension": ".py",
   "mimetype": "text/x-python",
   "name": "python",
   "nbconvert_exporter": "python",
   "pygments_lexer": "ipython3",
   "version": "3.10.5"
  }
 },
 "nbformat": 4,
 "nbformat_minor": 5
}
