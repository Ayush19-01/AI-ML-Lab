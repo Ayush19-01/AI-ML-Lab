{
 "cells": [
  {
   "cell_type": "code",
   "execution_count": 5,
   "id": "1a253383",
   "metadata": {
    "scrolled": true
   },
   "outputs": [
    {
     "name": "stdout",
     "output_type": "stream",
     "text": [
      "{'x': 3, 'y': 9}\n",
      "{'x': 3, 'y': 8}\n",
      "{'x': 3, 'y': 7}\n",
      "{'x': 2, 'y': 9}\n",
      "{'x': 2, 'y': 8}\n",
      "{'x': 1, 'y': 9}\n"
     ]
    }
   ],
   "source": [
    "#Ayush Sharma 209303312\n",
    "#Python code to solve some algebraic relations using constraintsatisfaction\n",
    "#solving cosntraint x+y>= 15 when x can be from [1,2,3,4,5] and y can be from [1,2,3,4,5,6,7,8,9,10,11,12]\n",
    "\n",
    "from constraint import *\n",
    "\n",
    "\n",
    "problem=Problem()\n",
    "problem.addVariable(\"x\",[1,2,3])\n",
    "problem.addVariable(\"y\",[0,1,2,3,4,5,6,7,8,9])\n",
    "\n",
    "def my_constraint(x,y):\n",
    "    if x+y>=10:\n",
    "        return True\n",
    "\n",
    "\n",
    "problem.addConstraint(my_constraint,['x','y'])\n",
    "s=problem.getSolutions()\n",
    "for i in s:\n",
    "    print(i)\n"
   ]
  },
  {
   "cell_type": "code",
   "execution_count": null,
   "id": "871a916b",
   "metadata": {},
   "outputs": [],
   "source": []
  }
 ],
 "metadata": {
  "kernelspec": {
   "display_name": "Python 3 (ipykernel)",
   "language": "python",
   "name": "python3"
  },
  "language_info": {
   "codemirror_mode": {
    "name": "ipython",
    "version": 3
   },
   "file_extension": ".py",
   "mimetype": "text/x-python",
   "name": "python",
   "nbconvert_exporter": "python",
   "pygments_lexer": "ipython3",
   "version": "3.10.5"
  }
 },
 "nbformat": 4,
 "nbformat_minor": 5
}
